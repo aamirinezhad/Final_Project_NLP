{
  "nbformat": 4,
  "nbformat_minor": 0,
  "metadata": {
    "colab": {
      "name": "Untitled1.ipynb",
      "provenance": []
    },
    "kernelspec": {
      "name": "python3",
      "display_name": "Python 3"
    },
    "language_info": {
      "name": "python"
    }
  },
  "cells": [
    {
      "cell_type": "code",
      "source": [
        "import numpy as np\n",
        "import nltk\n",
        "import pandas as pd\n",
        "import codecs\n",
        "import tqdm\n",
        "import itertools\n",
        "from sklearn.feature_extraction.text import TfidfVectorizer\n",
        "from sklearn.metrics.pairwise import cosine_similarity\n",
        "!pip install hazm\n",
        "from hazm import *"
      ],
      "metadata": {
        "colab": {
          "base_uri": "https://localhost:8080/"
        },
        "id": "-ffmiWVyhWm8",
        "outputId": "45b44edd-58e6-4c57-c12f-07c7383ab304"
      },
      "execution_count": null,
      "outputs": [
        {
          "output_type": "stream",
          "name": "stdout",
          "text": [
            "Looking in indexes: https://pypi.org/simple, https://us-python.pkg.dev/colab-wheels/public/simple/\n",
            "Requirement already satisfied: hazm in /usr/local/lib/python3.7/dist-packages (0.7.0)\n",
            "Requirement already satisfied: libwapiti>=0.2.1 in /usr/local/lib/python3.7/dist-packages (from hazm) (0.2.1)\n",
            "Requirement already satisfied: nltk==3.3 in /usr/local/lib/python3.7/dist-packages (from hazm) (3.3)\n",
            "Requirement already satisfied: six in /usr/local/lib/python3.7/dist-packages (from nltk==3.3->hazm) (1.15.0)\n"
          ]
        }
      ]
    },
    {
      "cell_type": "markdown",
      "source": [
        "<p dir=\"rtl\">در این بخش ابتدا دیتاست را با استفاده از متد readlines خط به خط خوانده و توسط word-tokenizer کتابخانه هزم آن مصرع ها را توکناز میکنیم و در متغیر mesra_collection ذخیره میکنیم.</p>\n",
        "<p dir=\"rtl\">سپس به استفاده از تابع stopword_list ابتدا لیست استاپ ورد های آماده را وارد کرده و علائم نگارشی را به این لیست اضافه میکنیم. همچنین یک ورودی برای این تابع در نظر گرفته شده که اگر یک لیست تو در تو به آن داده شود توسط تابع freqdist در کتابخانه nltk ، فرکانس کلمات را محاسبه کرده و کلاماتی که بیشترین فرکانس را دارند به لیست استاپ ورد ها اضافه می کنیم.</p>\n",
        "<p dir=\"rtl\">در تابع preprocess_data به سراغ فراید پیش پردازش دیتاست میرویم. ابتدا توسط نرمالیزر هزم تمام مصرع ها را نرمالایز کرده، سپس با فراخواتی تابع stopword_list که پیشتر توضیح داده شد کلمات توقف را از لیست دیتاست حذف میکنیم. سپس با اسفاده از lemmatizer تمام کلمات را به ریشه میبریم. در انتها برای حذف استرینگ های تهی تمام خطوط را به هم جوین کرده و مجدد اسپلیت میکنیم. همچنین ممکن است در بعضی از مصرع ها با لیست تهی مواجه شویم که در بخش فست تکس در هنگام محاسبه میانگین به ارور نال برخورد میکنیم. برای حل این مشکل لیست های تهی را با یک استرینک اسپیس جایگذاری میکنیم.</p>\n",
        "<p dir=\"rtl\">همچنین یک تابع برای پیش پردازش query ها تعریف کرده و موارد گفته شده را روی پرس و جو اعمال می کینم.</p>"
      ],
      "metadata": {
        "id": "6_49ZrybS0bl"
      }
    },
    {
      "cell_type": "code",
      "source": [
        "tokenizer = WordTokenizer()\n",
        "normalizer = Normalizer()\n",
        "stemmer = Stemmer()\n",
        "lemmatizer = Lemmatizer()\n",
        "\n",
        "print('Get Dataset and word-tokenize: ', end='')\n",
        "mesra_collection = [tokenizer.tokenize(x.strip()) for x in tqdm.tqdm(codecs.open('/content/drive/MyDrive/Colab Notebooks/all_qazals_mesra.txt','rU','utf-8').readlines())]\n",
        "\n",
        "def stopwords_list(input='none'):\n",
        "  stopwords = [normalizer.normalize(x.strip()) for x in codecs.open('/content/drive/MyDrive/Colab Notebooks/stopwords.txt','r','utf-8').readlines()]\n",
        "  stopwords.extend([':','.','،','«','»','!','؟','#','(',')'])\n",
        "  if input != 'none':\n",
        "    freqdist = [i for i, j in nltk.FreqDist(list(itertools.chain(*input))).most_common(50)]\n",
        "    stopwords.extend(freqdist)\n",
        "  return stopwords\n",
        "\n",
        "def preprocess_data(dataset):\n",
        "  print('Normailze: ', end='')\n",
        "  mesra_normalized = [[normalizer.normalize(y) for y in x] for x in tqdm.tqdm(dataset)]\n",
        "  print('Remove Stopword: ', end='')\n",
        "  stopwords = stopwords_list(mesra_normalized)\n",
        "  mesra_normalized_nonstopword = [[j for j in i if j not in stopwords] for i in tqdm.tqdm(mesra_normalized)]\n",
        "  print('Lemmatize: ', end='')\n",
        "  mesra_normalized_nonstopword_stem_lemma = [[lemmatizer.lemmatize(j) for j in i] for i in tqdm.tqdm(mesra_normalized_nonstopword)]\n",
        "  data = [' '.join(sent).split() for sent in mesra_normalized_nonstopword_stem_lemma]\n",
        "  for i in range(len(data)):\n",
        "    if len(data[i])==0:\n",
        "      data[i] = [' ']\n",
        "  return data\n",
        "\n",
        "def preprocess_query(query):\n",
        "  query_tokenize = tokenizer.tokenize(query)\n",
        "  query_normalize = [normalizer.normalize(i) for i in query_tokenize]\n",
        "  stopwords = stopwords_list()\n",
        "  query_normalize_nonstopword = [i for i in query_normalize if i not in stopwords]\n",
        "  query_normalize_nonstopword_lemma = [lemmatizer.lemmatize(i) for i in query_normalize_nonstopword]\n",
        "  query = ' '.join(query_normalize_nonstopword_lemma)\n",
        "  return query\n"
      ],
      "metadata": {
        "colab": {
          "base_uri": "https://localhost:8080/"
        },
        "id": "o7N9cN5NgNAx",
        "outputId": "5bcd33c0-0d69-4228-c1e0-ed86ced3ac20"
      },
      "execution_count": null,
      "outputs": [
        {
          "output_type": "stream",
          "name": "stdout",
          "text": [
            "Get Dataset and word-tokenize: "
          ]
        },
        {
          "output_type": "stream",
          "name": "stderr",
          "text": [
            "100%|██████████| 329707/329707 [00:11<00:00, 28096.22it/s]\n"
          ]
        }
      ]
    },
    {
      "cell_type": "markdown",
      "source": [
        "<p dir=\"rtl\">در این بخش دیتاست را به تابع preprocess_data میدهیم تا پیشپردازش انجام شده و در متغیر data ذخیره می کینم.</p>"
      ],
      "metadata": {
        "id": "AlMqaKyOVnOD"
      }
    },
    {
      "cell_type": "code",
      "source": [
        "data = preprocess_data(mesra_collection)"
      ],
      "metadata": {
        "colab": {
          "base_uri": "https://localhost:8080/"
        },
        "id": "Mbpk7aNHISbs",
        "outputId": "cb5b9621-a407-49b2-9340-81a0e385c889"
      },
      "execution_count": null,
      "outputs": [
        {
          "output_type": "stream",
          "name": "stdout",
          "text": [
            "Normailze: "
          ]
        },
        {
          "output_type": "stream",
          "name": "stderr",
          "text": [
            "100%|██████████| 329707/329707 [01:03<00:00, 5215.31it/s]\n"
          ]
        },
        {
          "output_type": "stream",
          "name": "stdout",
          "text": [
            "Remove Stopword: "
          ]
        },
        {
          "output_type": "stream",
          "name": "stderr",
          "text": [
            "100%|██████████| 329707/329707 [00:15<00:00, 20729.92it/s]\n"
          ]
        },
        {
          "output_type": "stream",
          "name": "stdout",
          "text": [
            "Lemmatize: "
          ]
        },
        {
          "output_type": "stream",
          "name": "stderr",
          "text": [
            "100%|██████████| 329707/329707 [00:03<00:00, 94468.64it/s]\n"
          ]
        }
      ]
    },
    {
      "cell_type": "markdown",
      "source": [
        "**TF-IDF:**"
      ],
      "metadata": {
        "id": "2_qitAx3H_Qg"
      }
    },
    {
      "cell_type": "markdown",
      "source": [
        "<p dir='rtl'>در این بخش توسط تابع tf_idf_cal و وردی های داده و نوع انالیزر ( کلمه یا کاراکتر ) دیتای tf_idf خود را می سازیم. ماژول tf_idf ار کتابخانه sklearn قابل اسفاده است. سپس خروجی های وکتورایزر و ماتریس doc_term را دریافت می کنیم.</p>\n",
        "<p dir='rtl'>سپس دیتای خود را به این تابع می دهیم.</p>\n",
        "<p dir='rtl'>در بخش بعد توسط تابع tfidf_query_sim و ورودی های پرس و جو، تعداد داک های مشابه و مدل ابتدا query خود را روی مدل ترنسفرم کرده و توسط ماژول cosine_similarity زاویه کوسینوسی هر داک را با کوئری محاسبه میکنیم. سپس توسط متد argsort بر اساس ترتیب نزولی ایندس ها را به دست می آوریم. سپس متن های اصلی را با ایندکس دادن به mesra_collection محاسبه می کینم. خروجی این تابع مصرع های مشابه و میزان شباهت است.</p>\n",
        "<p dir='rtl'>در انتها توسط تابع main کوئری ورودی را پیش پردازش کرده، مشابهت کوئری را با مدل محاسبه و یک دیتافریم ساخته می شود.</p>"
      ],
      "metadata": {
        "id": "C55kpL8eWNJu"
      }
    },
    {
      "cell_type": "code",
      "source": [
        "def tf_idf_cal(data, analyzer='word'):\n",
        "  vectorizer = TfidfVectorizer(analyzer=analyzer)\n",
        "  mat_doc_term = vectorizer.fit_transform(data)\n",
        "  return vectorizer, mat_doc_term\n",
        "\n",
        "tfidf_model = tf_idf_cal([' '.join(i) for i in data])\n",
        "\n",
        "def tfidf_query_sim(query, n, model):\n",
        "  query_tfidf = model[0].transform([query])\n",
        "  scores_CS = np.array(cosine_similarity(query_tfidf, model[1])[0])\n",
        "  i_desc_CS = scores_CS.argsort()[-n:][::-1]\n",
        "  sim = [' '.join(mesra_collection[i]) for i in i_desc_CS]\n",
        "  scores= np.sort(scores_CS, axis=0)[::-1][:n]\n",
        "  return sim, scores\n",
        "\n",
        "def main(query, data, n=1):\n",
        "  query = preprocess_query(query)\n",
        "  sim, scores = tfidf_query_sim(query, n, tfidf_model)\n",
        "  df = pd.DataFrame({'جمله': sim, 'شباهت':scores})\n",
        "  return df"
      ],
      "metadata": {
        "id": "rweIdOVsH--7"
      },
      "execution_count": null,
      "outputs": []
    },
    {
      "cell_type": "code",
      "source": [
        "main('الا یا الساقی',data,5)"
      ],
      "metadata": {
        "colab": {
          "base_uri": "https://localhost:8080/",
          "height": 206
        },
        "id": "AGrCddT7gPzC",
        "outputId": "5ab9e503-d662-4565-8319-21a1f3b59b83"
      },
      "execution_count": null,
      "outputs": [
        {
          "output_type": "execute_result",
          "data": {
            "text/plain": [
              "                                        جمله     شباهت\n",
              "0      الا یا ایها الساقی بده جامی که مخمورم  0.686951\n",
              "1     ادر کأسا و ناولها ، الا یا ایها الساقی  0.531039\n",
              "2  « الا یا ایها الساقی ادر کاساً و ناولها »  0.528863\n",
              "3       الا یا ایها الساقی ادر کاسا و ناولها  0.528863\n",
              "4                   الامان و الامان از سلسله  0.499697"
            ],
            "text/html": [
              "\n",
              "  <div id=\"df-149aa39f-2575-4eaa-b301-d389efb051de\">\n",
              "    <div class=\"colab-df-container\">\n",
              "      <div>\n",
              "<style scoped>\n",
              "    .dataframe tbody tr th:only-of-type {\n",
              "        vertical-align: middle;\n",
              "    }\n",
              "\n",
              "    .dataframe tbody tr th {\n",
              "        vertical-align: top;\n",
              "    }\n",
              "\n",
              "    .dataframe thead th {\n",
              "        text-align: right;\n",
              "    }\n",
              "</style>\n",
              "<table border=\"1\" class=\"dataframe\">\n",
              "  <thead>\n",
              "    <tr style=\"text-align: right;\">\n",
              "      <th></th>\n",
              "      <th>جمله</th>\n",
              "      <th>شباهت</th>\n",
              "    </tr>\n",
              "  </thead>\n",
              "  <tbody>\n",
              "    <tr>\n",
              "      <th>0</th>\n",
              "      <td>الا یا ایها الساقی بده جامی که مخمورم</td>\n",
              "      <td>0.686951</td>\n",
              "    </tr>\n",
              "    <tr>\n",
              "      <th>1</th>\n",
              "      <td>ادر کأسا و ناولها ، الا یا ایها الساقی</td>\n",
              "      <td>0.531039</td>\n",
              "    </tr>\n",
              "    <tr>\n",
              "      <th>2</th>\n",
              "      <td>« الا یا ایها الساقی ادر کاساً و ناولها »</td>\n",
              "      <td>0.528863</td>\n",
              "    </tr>\n",
              "    <tr>\n",
              "      <th>3</th>\n",
              "      <td>الا یا ایها الساقی ادر کاسا و ناولها</td>\n",
              "      <td>0.528863</td>\n",
              "    </tr>\n",
              "    <tr>\n",
              "      <th>4</th>\n",
              "      <td>الامان و الامان از سلسله</td>\n",
              "      <td>0.499697</td>\n",
              "    </tr>\n",
              "  </tbody>\n",
              "</table>\n",
              "</div>\n",
              "      <button class=\"colab-df-convert\" onclick=\"convertToInteractive('df-149aa39f-2575-4eaa-b301-d389efb051de')\"\n",
              "              title=\"Convert this dataframe to an interactive table.\"\n",
              "              style=\"display:none;\">\n",
              "        \n",
              "  <svg xmlns=\"http://www.w3.org/2000/svg\" height=\"24px\"viewBox=\"0 0 24 24\"\n",
              "       width=\"24px\">\n",
              "    <path d=\"M0 0h24v24H0V0z\" fill=\"none\"/>\n",
              "    <path d=\"M18.56 5.44l.94 2.06.94-2.06 2.06-.94-2.06-.94-.94-2.06-.94 2.06-2.06.94zm-11 1L8.5 8.5l.94-2.06 2.06-.94-2.06-.94L8.5 2.5l-.94 2.06-2.06.94zm10 10l.94 2.06.94-2.06 2.06-.94-2.06-.94-.94-2.06-.94 2.06-2.06.94z\"/><path d=\"M17.41 7.96l-1.37-1.37c-.4-.4-.92-.59-1.43-.59-.52 0-1.04.2-1.43.59L10.3 9.45l-7.72 7.72c-.78.78-.78 2.05 0 2.83L4 21.41c.39.39.9.59 1.41.59.51 0 1.02-.2 1.41-.59l7.78-7.78 2.81-2.81c.8-.78.8-2.07 0-2.86zM5.41 20L4 18.59l7.72-7.72 1.47 1.35L5.41 20z\"/>\n",
              "  </svg>\n",
              "      </button>\n",
              "      \n",
              "  <style>\n",
              "    .colab-df-container {\n",
              "      display:flex;\n",
              "      flex-wrap:wrap;\n",
              "      gap: 12px;\n",
              "    }\n",
              "\n",
              "    .colab-df-convert {\n",
              "      background-color: #E8F0FE;\n",
              "      border: none;\n",
              "      border-radius: 50%;\n",
              "      cursor: pointer;\n",
              "      display: none;\n",
              "      fill: #1967D2;\n",
              "      height: 32px;\n",
              "      padding: 0 0 0 0;\n",
              "      width: 32px;\n",
              "    }\n",
              "\n",
              "    .colab-df-convert:hover {\n",
              "      background-color: #E2EBFA;\n",
              "      box-shadow: 0px 1px 2px rgba(60, 64, 67, 0.3), 0px 1px 3px 1px rgba(60, 64, 67, 0.15);\n",
              "      fill: #174EA6;\n",
              "    }\n",
              "\n",
              "    [theme=dark] .colab-df-convert {\n",
              "      background-color: #3B4455;\n",
              "      fill: #D2E3FC;\n",
              "    }\n",
              "\n",
              "    [theme=dark] .colab-df-convert:hover {\n",
              "      background-color: #434B5C;\n",
              "      box-shadow: 0px 1px 3px 1px rgba(0, 0, 0, 0.15);\n",
              "      filter: drop-shadow(0px 1px 2px rgba(0, 0, 0, 0.3));\n",
              "      fill: #FFFFFF;\n",
              "    }\n",
              "  </style>\n",
              "\n",
              "      <script>\n",
              "        const buttonEl =\n",
              "          document.querySelector('#df-149aa39f-2575-4eaa-b301-d389efb051de button.colab-df-convert');\n",
              "        buttonEl.style.display =\n",
              "          google.colab.kernel.accessAllowed ? 'block' : 'none';\n",
              "\n",
              "        async function convertToInteractive(key) {\n",
              "          const element = document.querySelector('#df-149aa39f-2575-4eaa-b301-d389efb051de');\n",
              "          const dataTable =\n",
              "            await google.colab.kernel.invokeFunction('convertToInteractive',\n",
              "                                                     [key], {});\n",
              "          if (!dataTable) return;\n",
              "\n",
              "          const docLinkHtml = 'Like what you see? Visit the ' +\n",
              "            '<a target=\"_blank\" href=https://colab.research.google.com/notebooks/data_table.ipynb>data table notebook</a>'\n",
              "            + ' to learn more about interactive tables.';\n",
              "          element.innerHTML = '';\n",
              "          dataTable['output_type'] = 'display_data';\n",
              "          await google.colab.output.renderOutput(dataTable, element);\n",
              "          const docLink = document.createElement('div');\n",
              "          docLink.innerHTML = docLinkHtml;\n",
              "          element.appendChild(docLink);\n",
              "        }\n",
              "      </script>\n",
              "    </div>\n",
              "  </div>\n",
              "  "
            ]
          },
          "metadata": {},
          "execution_count": 5
        }
      ]
    },
    {
      "cell_type": "markdown",
      "source": [
        "FastText"
      ],
      "metadata": {
        "id": "rm3wglkJHx-o"
      }
    },
    {
      "cell_type": "code",
      "source": [
        "!wget https://dl.fbaipublicfiles.com/fasttext/vectors-wiki/wiki.fa.zip\n",
        "!unzip \"/content/wiki.fa.zip\"\n",
        "!pip install --upgrade gensim"
      ],
      "metadata": {
        "colab": {
          "base_uri": "https://localhost:8080/"
        },
        "id": "LaZkWNH2tAEs",
        "outputId": "d3c722c9-61c1-42cc-8cf9-c8c04ec68df7"
      },
      "execution_count": null,
      "outputs": [
        {
          "output_type": "stream",
          "name": "stdout",
          "text": [
            "--2022-08-26 02:41:34--  https://dl.fbaipublicfiles.com/fasttext/vectors-wiki/wiki.fa.zip\n",
            "Resolving dl.fbaipublicfiles.com (dl.fbaipublicfiles.com)... 104.22.75.142, 104.22.74.142, 172.67.9.4, ...\n",
            "Connecting to dl.fbaipublicfiles.com (dl.fbaipublicfiles.com)|104.22.75.142|:443... connected.\n",
            "HTTP request sent, awaiting response... 200 OK\n",
            "Length: 3631863356 (3.4G) [application/zip]\n",
            "Saving to: ‘wiki.fa.zip.2’\n",
            "\n",
            "wiki.fa.zip.2         4%[                    ] 139.51M  37.4MB/s    eta 1m 45s ^C\n",
            "Archive:  /content/wiki.fa.zip\n",
            "replace wiki.fa.vec? [y]es, [n]o, [A]ll, [N]one, [r]ename: Looking in indexes: https://pypi.org/simple, https://us-python.pkg.dev/colab-wheels/public/simple/\n",
            "Requirement already satisfied: gensim in /usr/local/lib/python3.7/dist-packages (4.2.0)\n",
            "Requirement already satisfied: smart-open>=1.8.1 in /usr/local/lib/python3.7/dist-packages (from gensim) (5.2.1)\n",
            "Requirement already satisfied: numpy>=1.17.0 in /usr/local/lib/python3.7/dist-packages (from gensim) (1.21.6)\n",
            "Requirement already satisfied: scipy>=0.18.1 in /usr/local/lib/python3.7/dist-packages (from gensim) (1.7.3)\n",
            "Traceback (most recent call last):\n",
            "  File \"/usr/local/lib/python3.7/dist-packages/pip/_vendor/pkg_resources/__init__.py\", line 3021, in _dep_map\n",
            "    return self.__dep_map\n",
            "  File \"/usr/local/lib/python3.7/dist-packages/pip/_vendor/pkg_resources/__init__.py\", line 2815, in __getattr__\n",
            "    raise AttributeError(attr)\n",
            "AttributeError: _DistInfoDistribution__dep_map\n",
            "\n",
            "During handling of the above exception, another exception occurred:\n",
            "\n",
            "Traceback (most recent call last):\n",
            "  File \"/usr/local/lib/python3.7/dist-packages/pip/_internal/cli/base_command.py\", line 180, in _main\n",
            "    status = self.run(options, args)\n",
            "  File \"/usr/local/lib/python3.7/dist-packages/pip/_internal/cli/req_command.py\", line 199, in wrapper\n",
            "    return func(self, options, args)\n",
            "  File \"/usr/local/lib/python3.7/dist-packages/pip/_internal/commands/install.py\", line 385, in run\n",
            "    conflicts = self._determine_conflicts(to_install)\n",
            "  File \"/usr/local/lib/python3.7/dist-packages/pip/_internal/commands/install.py\", line 515, in _determine_conflicts\n",
            "    return check_install_conflicts(to_install)\n",
            "  File \"/usr/local/lib/python3.7/dist-packages/pip/_internal/operations/check.py\", line 103, in check_install_conflicts\n",
            "    package_set, _ = create_package_set_from_installed()\n",
            "  File \"/usr/local/lib/python3.7/dist-packages/pip/_internal/operations/check.py\", line 45, in create_package_set_from_installed\n",
            "    package_set[name] = PackageDetails(dist.version, dist.requires())\n",
            "  File \"/usr/local/lib/python3.7/dist-packages/pip/_vendor/pkg_resources/__init__.py\", line 2736, in requires\n",
            "    dm = self._dep_map\n",
            "  File \"/usr/local/lib/python3.7/dist-packages/pip/_vendor/pkg_resources/__init__.py\", line 3023, in _dep_map\n",
            "    self.__dep_map = self._compute_dependencies()\n",
            "  File \"/usr/local/lib/python3.7/dist-packages/pip/_vendor/pkg_resources/__init__.py\", line 3040, in _compute_dependencies\n",
            "    common = frozenset(reqs_for_extra(None))\n",
            "KeyboardInterrupt\n",
            "\n",
            "During handling of the above exception, another exception occurred:\n",
            "\n",
            "Traceback (most recent call last):\n",
            "  File \"/usr/local/bin/pip3\", line 8, in <module>\n",
            "    sys.exit(main())\n",
            "  File \"/usr/local/lib/python3.7/dist-packages/pip/_internal/cli/main.py\", line 71, in main\n",
            "    return command.main(cmd_args)\n",
            "  File \"/usr/local/lib/python3.7/dist-packages/pip/_internal/cli/base_command.py\", line 104, in main\n",
            "    return self._main(args)\n",
            "  File \"/usr/local/lib/python3.7/dist-packages/pip/_internal/cli/base_command.py\", line 192, in _main\n",
            "    NetworkConnectionError,\n",
            "KeyboardInterrupt\n"
          ]
        }
      ]
    },
    {
      "cell_type": "code",
      "source": [
        "from gensim.models import fasttext\n",
        "from gensim.test.utils import datapath"
      ],
      "metadata": {
        "id": "W_LOJxlDAsWN"
      },
      "execution_count": null,
      "outputs": []
    },
    {
      "cell_type": "code",
      "source": [
        "fasttext_model = fasttext.load_facebook_model(datapath('/content/wiki.fa.bin'))"
      ],
      "metadata": {
        "id": "GvZl668oAuXx"
      },
      "execution_count": null,
      "outputs": []
    },
    {
      "cell_type": "code",
      "source": [
        "def sent_to_vec(sent):\n",
        "  vec = np.mean([fasttext_model.wv[word] for word in sent], axis=0)\n",
        "  return vec\n",
        "\n",
        "def dataset_to_vec(data):\n",
        "  data_vec = [sent_to_vec(i) for i in data]\n",
        "  return data_vec\n",
        "\n",
        "data_vec = dataset_to_vec(data)"
      ],
      "metadata": {
        "id": "5YozzEBUOCr_"
      },
      "execution_count": null,
      "outputs": []
    },
    {
      "cell_type": "code",
      "source": [
        "def fasttext_query_similarity(query, n):\n",
        "  query_vec = sent_to_vec(query).reshape(1, -1)\n",
        "  scores_CS = np.array([cosine_similarity(data_vec, query_vec)]).reshape(1,-1)[0]\n",
        "  i_desc_CS = scores_CS.argsort()[::-1][:n]\n",
        "  sim = [' '.join(mesra_collection[i]) for i in i_desc_CS]\n",
        "  scores = np.sort(scores_CS, axis=0)[::-1][:n]\n",
        "  return sim, scores\n",
        "\n",
        "def main(query, n=1):\n",
        "  query = preprocess_query(query)\n",
        "  sim, scores = fasttext_query_similarity(query, n)\n",
        "  df = pd.DataFrame({'جمله': sim, 'شباهت':scores})\n",
        "  return df"
      ],
      "metadata": {
        "id": "ROxrNTfn9Hfg"
      },
      "execution_count": null,
      "outputs": []
    },
    {
      "cell_type": "code",
      "source": [
        "main('الا یا الساقی', 5)"
      ],
      "metadata": {
        "colab": {
          "base_uri": "https://localhost:8080/",
          "height": 206
        },
        "id": "oZWjLM43Kx3W",
        "outputId": "3b42da43-b992-4a67-cf8d-778ab811332c"
      },
      "execution_count": null,
      "outputs": [
        {
          "output_type": "execute_result",
          "data": {
            "text/plain": [
              "                                   جمله     شباهت\n",
              "0  دل ر ا چه می دهی که به دارالشفا بریم  0.707235\n",
              "1  نسخهٔ ما ر ا ورق‌گرداندنی درکار نیست  0.694412\n",
              "2             ا ی بتو خوش خاطر ناشاد ما  0.665237\n",
              "3          ای رویت آفتاب و لبت ش و ک ور  0.641902\n",
              "4           بگشا به مدح خسروا فاق ل و ب  0.628792"
            ],
            "text/html": [
              "\n",
              "  <div id=\"df-d56127ef-0026-4ff1-8282-65ce37282c2b\">\n",
              "    <div class=\"colab-df-container\">\n",
              "      <div>\n",
              "<style scoped>\n",
              "    .dataframe tbody tr th:only-of-type {\n",
              "        vertical-align: middle;\n",
              "    }\n",
              "\n",
              "    .dataframe tbody tr th {\n",
              "        vertical-align: top;\n",
              "    }\n",
              "\n",
              "    .dataframe thead th {\n",
              "        text-align: right;\n",
              "    }\n",
              "</style>\n",
              "<table border=\"1\" class=\"dataframe\">\n",
              "  <thead>\n",
              "    <tr style=\"text-align: right;\">\n",
              "      <th></th>\n",
              "      <th>جمله</th>\n",
              "      <th>شباهت</th>\n",
              "    </tr>\n",
              "  </thead>\n",
              "  <tbody>\n",
              "    <tr>\n",
              "      <th>0</th>\n",
              "      <td>دل ر ا چه می دهی که به دارالشفا بریم</td>\n",
              "      <td>0.707235</td>\n",
              "    </tr>\n",
              "    <tr>\n",
              "      <th>1</th>\n",
              "      <td>نسخهٔ ما ر ا ورق‌گرداندنی درکار نیست</td>\n",
              "      <td>0.694412</td>\n",
              "    </tr>\n",
              "    <tr>\n",
              "      <th>2</th>\n",
              "      <td>ا ی بتو خوش خاطر ناشاد ما</td>\n",
              "      <td>0.665237</td>\n",
              "    </tr>\n",
              "    <tr>\n",
              "      <th>3</th>\n",
              "      <td>ای رویت آفتاب و لبت ش و ک ور</td>\n",
              "      <td>0.641902</td>\n",
              "    </tr>\n",
              "    <tr>\n",
              "      <th>4</th>\n",
              "      <td>بگشا به مدح خسروا فاق ل و ب</td>\n",
              "      <td>0.628792</td>\n",
              "    </tr>\n",
              "  </tbody>\n",
              "</table>\n",
              "</div>\n",
              "      <button class=\"colab-df-convert\" onclick=\"convertToInteractive('df-d56127ef-0026-4ff1-8282-65ce37282c2b')\"\n",
              "              title=\"Convert this dataframe to an interactive table.\"\n",
              "              style=\"display:none;\">\n",
              "        \n",
              "  <svg xmlns=\"http://www.w3.org/2000/svg\" height=\"24px\"viewBox=\"0 0 24 24\"\n",
              "       width=\"24px\">\n",
              "    <path d=\"M0 0h24v24H0V0z\" fill=\"none\"/>\n",
              "    <path d=\"M18.56 5.44l.94 2.06.94-2.06 2.06-.94-2.06-.94-.94-2.06-.94 2.06-2.06.94zm-11 1L8.5 8.5l.94-2.06 2.06-.94-2.06-.94L8.5 2.5l-.94 2.06-2.06.94zm10 10l.94 2.06.94-2.06 2.06-.94-2.06-.94-.94-2.06-.94 2.06-2.06.94z\"/><path d=\"M17.41 7.96l-1.37-1.37c-.4-.4-.92-.59-1.43-.59-.52 0-1.04.2-1.43.59L10.3 9.45l-7.72 7.72c-.78.78-.78 2.05 0 2.83L4 21.41c.39.39.9.59 1.41.59.51 0 1.02-.2 1.41-.59l7.78-7.78 2.81-2.81c.8-.78.8-2.07 0-2.86zM5.41 20L4 18.59l7.72-7.72 1.47 1.35L5.41 20z\"/>\n",
              "  </svg>\n",
              "      </button>\n",
              "      \n",
              "  <style>\n",
              "    .colab-df-container {\n",
              "      display:flex;\n",
              "      flex-wrap:wrap;\n",
              "      gap: 12px;\n",
              "    }\n",
              "\n",
              "    .colab-df-convert {\n",
              "      background-color: #E8F0FE;\n",
              "      border: none;\n",
              "      border-radius: 50%;\n",
              "      cursor: pointer;\n",
              "      display: none;\n",
              "      fill: #1967D2;\n",
              "      height: 32px;\n",
              "      padding: 0 0 0 0;\n",
              "      width: 32px;\n",
              "    }\n",
              "\n",
              "    .colab-df-convert:hover {\n",
              "      background-color: #E2EBFA;\n",
              "      box-shadow: 0px 1px 2px rgba(60, 64, 67, 0.3), 0px 1px 3px 1px rgba(60, 64, 67, 0.15);\n",
              "      fill: #174EA6;\n",
              "    }\n",
              "\n",
              "    [theme=dark] .colab-df-convert {\n",
              "      background-color: #3B4455;\n",
              "      fill: #D2E3FC;\n",
              "    }\n",
              "\n",
              "    [theme=dark] .colab-df-convert:hover {\n",
              "      background-color: #434B5C;\n",
              "      box-shadow: 0px 1px 3px 1px rgba(0, 0, 0, 0.15);\n",
              "      filter: drop-shadow(0px 1px 2px rgba(0, 0, 0, 0.3));\n",
              "      fill: #FFFFFF;\n",
              "    }\n",
              "  </style>\n",
              "\n",
              "      <script>\n",
              "        const buttonEl =\n",
              "          document.querySelector('#df-d56127ef-0026-4ff1-8282-65ce37282c2b button.colab-df-convert');\n",
              "        buttonEl.style.display =\n",
              "          google.colab.kernel.accessAllowed ? 'block' : 'none';\n",
              "\n",
              "        async function convertToInteractive(key) {\n",
              "          const element = document.querySelector('#df-d56127ef-0026-4ff1-8282-65ce37282c2b');\n",
              "          const dataTable =\n",
              "            await google.colab.kernel.invokeFunction('convertToInteractive',\n",
              "                                                     [key], {});\n",
              "          if (!dataTable) return;\n",
              "\n",
              "          const docLinkHtml = 'Like what you see? Visit the ' +\n",
              "            '<a target=\"_blank\" href=https://colab.research.google.com/notebooks/data_table.ipynb>data table notebook</a>'\n",
              "            + ' to learn more about interactive tables.';\n",
              "          element.innerHTML = '';\n",
              "          dataTable['output_type'] = 'display_data';\n",
              "          await google.colab.output.renderOutput(dataTable, element);\n",
              "          const docLink = document.createElement('div');\n",
              "          docLink.innerHTML = docLinkHtml;\n",
              "          element.appendChild(docLink);\n",
              "        }\n",
              "      </script>\n",
              "    </div>\n",
              "  </div>\n",
              "  "
            ]
          },
          "metadata": {},
          "execution_count": 65
        }
      ]
    },
    {
      "cell_type": "code",
      "source": [
        "main('که تو پاکی و خدایی',5)"
      ],
      "metadata": {
        "colab": {
          "base_uri": "https://localhost:8080/",
          "height": 206
        },
        "id": "AgzYA_576MsT",
        "outputId": "d37606b6-4918-43e0-f751-a52246f6710a"
      },
      "execution_count": null,
      "outputs": [
        {
          "output_type": "execute_result",
          "data": {
            "text/plain": [
              "                                        جمله     شباهت\n",
              "0       دل ر ا چه می دهی که به دارالشفا بریم  0.809598\n",
              "1                چون مرا در عشق‌ست ا کرده‌ای  0.761930\n",
              "2       نسخهٔ ما ر ا ورق‌گرداندنی درکار نیست  0.711833\n",
              "3               ای رویت آفتاب و لبت ش و ک ور  0.650440\n",
              "4  که مو هو م است چو ن تار نظر آغاز و انجامت  0.645026"
            ],
            "text/html": [
              "\n",
              "  <div id=\"df-3e500e84-3fd9-4c08-b39b-218edb1a5487\">\n",
              "    <div class=\"colab-df-container\">\n",
              "      <div>\n",
              "<style scoped>\n",
              "    .dataframe tbody tr th:only-of-type {\n",
              "        vertical-align: middle;\n",
              "    }\n",
              "\n",
              "    .dataframe tbody tr th {\n",
              "        vertical-align: top;\n",
              "    }\n",
              "\n",
              "    .dataframe thead th {\n",
              "        text-align: right;\n",
              "    }\n",
              "</style>\n",
              "<table border=\"1\" class=\"dataframe\">\n",
              "  <thead>\n",
              "    <tr style=\"text-align: right;\">\n",
              "      <th></th>\n",
              "      <th>جمله</th>\n",
              "      <th>شباهت</th>\n",
              "    </tr>\n",
              "  </thead>\n",
              "  <tbody>\n",
              "    <tr>\n",
              "      <th>0</th>\n",
              "      <td>دل ر ا چه می دهی که به دارالشفا بریم</td>\n",
              "      <td>0.809598</td>\n",
              "    </tr>\n",
              "    <tr>\n",
              "      <th>1</th>\n",
              "      <td>چون مرا در عشق‌ست ا کرده‌ای</td>\n",
              "      <td>0.761930</td>\n",
              "    </tr>\n",
              "    <tr>\n",
              "      <th>2</th>\n",
              "      <td>نسخهٔ ما ر ا ورق‌گرداندنی درکار نیست</td>\n",
              "      <td>0.711833</td>\n",
              "    </tr>\n",
              "    <tr>\n",
              "      <th>3</th>\n",
              "      <td>ای رویت آفتاب و لبت ش و ک ور</td>\n",
              "      <td>0.650440</td>\n",
              "    </tr>\n",
              "    <tr>\n",
              "      <th>4</th>\n",
              "      <td>که مو هو م است چو ن تار نظر آغاز و انجامت</td>\n",
              "      <td>0.645026</td>\n",
              "    </tr>\n",
              "  </tbody>\n",
              "</table>\n",
              "</div>\n",
              "      <button class=\"colab-df-convert\" onclick=\"convertToInteractive('df-3e500e84-3fd9-4c08-b39b-218edb1a5487')\"\n",
              "              title=\"Convert this dataframe to an interactive table.\"\n",
              "              style=\"display:none;\">\n",
              "        \n",
              "  <svg xmlns=\"http://www.w3.org/2000/svg\" height=\"24px\"viewBox=\"0 0 24 24\"\n",
              "       width=\"24px\">\n",
              "    <path d=\"M0 0h24v24H0V0z\" fill=\"none\"/>\n",
              "    <path d=\"M18.56 5.44l.94 2.06.94-2.06 2.06-.94-2.06-.94-.94-2.06-.94 2.06-2.06.94zm-11 1L8.5 8.5l.94-2.06 2.06-.94-2.06-.94L8.5 2.5l-.94 2.06-2.06.94zm10 10l.94 2.06.94-2.06 2.06-.94-2.06-.94-.94-2.06-.94 2.06-2.06.94z\"/><path d=\"M17.41 7.96l-1.37-1.37c-.4-.4-.92-.59-1.43-.59-.52 0-1.04.2-1.43.59L10.3 9.45l-7.72 7.72c-.78.78-.78 2.05 0 2.83L4 21.41c.39.39.9.59 1.41.59.51 0 1.02-.2 1.41-.59l7.78-7.78 2.81-2.81c.8-.78.8-2.07 0-2.86zM5.41 20L4 18.59l7.72-7.72 1.47 1.35L5.41 20z\"/>\n",
              "  </svg>\n",
              "      </button>\n",
              "      \n",
              "  <style>\n",
              "    .colab-df-container {\n",
              "      display:flex;\n",
              "      flex-wrap:wrap;\n",
              "      gap: 12px;\n",
              "    }\n",
              "\n",
              "    .colab-df-convert {\n",
              "      background-color: #E8F0FE;\n",
              "      border: none;\n",
              "      border-radius: 50%;\n",
              "      cursor: pointer;\n",
              "      display: none;\n",
              "      fill: #1967D2;\n",
              "      height: 32px;\n",
              "      padding: 0 0 0 0;\n",
              "      width: 32px;\n",
              "    }\n",
              "\n",
              "    .colab-df-convert:hover {\n",
              "      background-color: #E2EBFA;\n",
              "      box-shadow: 0px 1px 2px rgba(60, 64, 67, 0.3), 0px 1px 3px 1px rgba(60, 64, 67, 0.15);\n",
              "      fill: #174EA6;\n",
              "    }\n",
              "\n",
              "    [theme=dark] .colab-df-convert {\n",
              "      background-color: #3B4455;\n",
              "      fill: #D2E3FC;\n",
              "    }\n",
              "\n",
              "    [theme=dark] .colab-df-convert:hover {\n",
              "      background-color: #434B5C;\n",
              "      box-shadow: 0px 1px 3px 1px rgba(0, 0, 0, 0.15);\n",
              "      filter: drop-shadow(0px 1px 2px rgba(0, 0, 0, 0.3));\n",
              "      fill: #FFFFFF;\n",
              "    }\n",
              "  </style>\n",
              "\n",
              "      <script>\n",
              "        const buttonEl =\n",
              "          document.querySelector('#df-3e500e84-3fd9-4c08-b39b-218edb1a5487 button.colab-df-convert');\n",
              "        buttonEl.style.display =\n",
              "          google.colab.kernel.accessAllowed ? 'block' : 'none';\n",
              "\n",
              "        async function convertToInteractive(key) {\n",
              "          const element = document.querySelector('#df-3e500e84-3fd9-4c08-b39b-218edb1a5487');\n",
              "          const dataTable =\n",
              "            await google.colab.kernel.invokeFunction('convertToInteractive',\n",
              "                                                     [key], {});\n",
              "          if (!dataTable) return;\n",
              "\n",
              "          const docLinkHtml = 'Like what you see? Visit the ' +\n",
              "            '<a target=\"_blank\" href=https://colab.research.google.com/notebooks/data_table.ipynb>data table notebook</a>'\n",
              "            + ' to learn more about interactive tables.';\n",
              "          element.innerHTML = '';\n",
              "          dataTable['output_type'] = 'display_data';\n",
              "          await google.colab.output.renderOutput(dataTable, element);\n",
              "          const docLink = document.createElement('div');\n",
              "          docLink.innerHTML = docLinkHtml;\n",
              "          element.appendChild(docLink);\n",
              "        }\n",
              "      </script>\n",
              "    </div>\n",
              "  </div>\n",
              "  "
            ]
          },
          "metadata": {},
          "execution_count": 61
        }
      ]
    },
    {
      "cell_type": "code",
      "source": [
        "main('سعدیا مرد نکونام نمیرد هرگز',5)"
      ],
      "metadata": {
        "colab": {
          "base_uri": "https://localhost:8080/",
          "height": 206
        },
        "id": "kruqD2IF8IHv",
        "outputId": "06cbce72-fba3-4854-a8c0-b2020794a855"
      },
      "execution_count": null,
      "outputs": [
        {
          "output_type": "execute_result",
          "data": {
            "text/plain": [
              "                                   جمله     شباهت\n",
              "0  دل ر ا چه می دهی که به دارالشفا بریم  0.727576\n",
              "1         بس افتد از این‌ها ز س القضایی  0.706080\n",
              "2  نسخهٔ ما ر ا ورق‌گرداندنی درکار نیست  0.696989\n",
              "3           آ ب رخ خورشید ز خاک سر راهت  0.686799\n",
              "4         برش و ک و ر چو کشیدی تو رخ وط  0.683608"
            ],
            "text/html": [
              "\n",
              "  <div id=\"df-5fcdca13-358f-4f0e-9ca4-1a77133c1f1e\">\n",
              "    <div class=\"colab-df-container\">\n",
              "      <div>\n",
              "<style scoped>\n",
              "    .dataframe tbody tr th:only-of-type {\n",
              "        vertical-align: middle;\n",
              "    }\n",
              "\n",
              "    .dataframe tbody tr th {\n",
              "        vertical-align: top;\n",
              "    }\n",
              "\n",
              "    .dataframe thead th {\n",
              "        text-align: right;\n",
              "    }\n",
              "</style>\n",
              "<table border=\"1\" class=\"dataframe\">\n",
              "  <thead>\n",
              "    <tr style=\"text-align: right;\">\n",
              "      <th></th>\n",
              "      <th>جمله</th>\n",
              "      <th>شباهت</th>\n",
              "    </tr>\n",
              "  </thead>\n",
              "  <tbody>\n",
              "    <tr>\n",
              "      <th>0</th>\n",
              "      <td>دل ر ا چه می دهی که به دارالشفا بریم</td>\n",
              "      <td>0.727576</td>\n",
              "    </tr>\n",
              "    <tr>\n",
              "      <th>1</th>\n",
              "      <td>بس افتد از این‌ها ز س القضایی</td>\n",
              "      <td>0.706080</td>\n",
              "    </tr>\n",
              "    <tr>\n",
              "      <th>2</th>\n",
              "      <td>نسخهٔ ما ر ا ورق‌گرداندنی درکار نیست</td>\n",
              "      <td>0.696989</td>\n",
              "    </tr>\n",
              "    <tr>\n",
              "      <th>3</th>\n",
              "      <td>آ ب رخ خورشید ز خاک سر راهت</td>\n",
              "      <td>0.686799</td>\n",
              "    </tr>\n",
              "    <tr>\n",
              "      <th>4</th>\n",
              "      <td>برش و ک و ر چو کشیدی تو رخ وط</td>\n",
              "      <td>0.683608</td>\n",
              "    </tr>\n",
              "  </tbody>\n",
              "</table>\n",
              "</div>\n",
              "      <button class=\"colab-df-convert\" onclick=\"convertToInteractive('df-5fcdca13-358f-4f0e-9ca4-1a77133c1f1e')\"\n",
              "              title=\"Convert this dataframe to an interactive table.\"\n",
              "              style=\"display:none;\">\n",
              "        \n",
              "  <svg xmlns=\"http://www.w3.org/2000/svg\" height=\"24px\"viewBox=\"0 0 24 24\"\n",
              "       width=\"24px\">\n",
              "    <path d=\"M0 0h24v24H0V0z\" fill=\"none\"/>\n",
              "    <path d=\"M18.56 5.44l.94 2.06.94-2.06 2.06-.94-2.06-.94-.94-2.06-.94 2.06-2.06.94zm-11 1L8.5 8.5l.94-2.06 2.06-.94-2.06-.94L8.5 2.5l-.94 2.06-2.06.94zm10 10l.94 2.06.94-2.06 2.06-.94-2.06-.94-.94-2.06-.94 2.06-2.06.94z\"/><path d=\"M17.41 7.96l-1.37-1.37c-.4-.4-.92-.59-1.43-.59-.52 0-1.04.2-1.43.59L10.3 9.45l-7.72 7.72c-.78.78-.78 2.05 0 2.83L4 21.41c.39.39.9.59 1.41.59.51 0 1.02-.2 1.41-.59l7.78-7.78 2.81-2.81c.8-.78.8-2.07 0-2.86zM5.41 20L4 18.59l7.72-7.72 1.47 1.35L5.41 20z\"/>\n",
              "  </svg>\n",
              "      </button>\n",
              "      \n",
              "  <style>\n",
              "    .colab-df-container {\n",
              "      display:flex;\n",
              "      flex-wrap:wrap;\n",
              "      gap: 12px;\n",
              "    }\n",
              "\n",
              "    .colab-df-convert {\n",
              "      background-color: #E8F0FE;\n",
              "      border: none;\n",
              "      border-radius: 50%;\n",
              "      cursor: pointer;\n",
              "      display: none;\n",
              "      fill: #1967D2;\n",
              "      height: 32px;\n",
              "      padding: 0 0 0 0;\n",
              "      width: 32px;\n",
              "    }\n",
              "\n",
              "    .colab-df-convert:hover {\n",
              "      background-color: #E2EBFA;\n",
              "      box-shadow: 0px 1px 2px rgba(60, 64, 67, 0.3), 0px 1px 3px 1px rgba(60, 64, 67, 0.15);\n",
              "      fill: #174EA6;\n",
              "    }\n",
              "\n",
              "    [theme=dark] .colab-df-convert {\n",
              "      background-color: #3B4455;\n",
              "      fill: #D2E3FC;\n",
              "    }\n",
              "\n",
              "    [theme=dark] .colab-df-convert:hover {\n",
              "      background-color: #434B5C;\n",
              "      box-shadow: 0px 1px 3px 1px rgba(0, 0, 0, 0.15);\n",
              "      filter: drop-shadow(0px 1px 2px rgba(0, 0, 0, 0.3));\n",
              "      fill: #FFFFFF;\n",
              "    }\n",
              "  </style>\n",
              "\n",
              "      <script>\n",
              "        const buttonEl =\n",
              "          document.querySelector('#df-5fcdca13-358f-4f0e-9ca4-1a77133c1f1e button.colab-df-convert');\n",
              "        buttonEl.style.display =\n",
              "          google.colab.kernel.accessAllowed ? 'block' : 'none';\n",
              "\n",
              "        async function convertToInteractive(key) {\n",
              "          const element = document.querySelector('#df-5fcdca13-358f-4f0e-9ca4-1a77133c1f1e');\n",
              "          const dataTable =\n",
              "            await google.colab.kernel.invokeFunction('convertToInteractive',\n",
              "                                                     [key], {});\n",
              "          if (!dataTable) return;\n",
              "\n",
              "          const docLinkHtml = 'Like what you see? Visit the ' +\n",
              "            '<a target=\"_blank\" href=https://colab.research.google.com/notebooks/data_table.ipynb>data table notebook</a>'\n",
              "            + ' to learn more about interactive tables.';\n",
              "          element.innerHTML = '';\n",
              "          dataTable['output_type'] = 'display_data';\n",
              "          await google.colab.output.renderOutput(dataTable, element);\n",
              "          const docLink = document.createElement('div');\n",
              "          docLink.innerHTML = docLinkHtml;\n",
              "          element.appendChild(docLink);\n",
              "        }\n",
              "      </script>\n",
              "    </div>\n",
              "  </div>\n",
              "  "
            ]
          },
          "metadata": {},
          "execution_count": 66
        }
      ]
    }
  ]
}